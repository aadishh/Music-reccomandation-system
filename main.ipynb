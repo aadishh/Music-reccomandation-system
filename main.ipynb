{
 "cells": [
  {
   "cell_type": "code",
   "execution_count": null,
   "id": "eb36862d-ea12-428b-9ade-abbcec007363",
   "metadata": {},
   "outputs": [],
   "source": [
    "from deepface import DeepFace\n",
    "import cv2 \n",
    "from cv2 import * \n",
    "import matplotlib.pyplot as plt \n",
    "import json\n",
    "import webbrowser\n",
    "import spotipy"
   ]
  },
  {
   "cell_type": "code",
   "execution_count": null,
   "id": "505c0267-a942-42f6-96de-0f4648c440c9",
   "metadata": {},
   "outputs": [],
   "source": [
    "from time import sleep\n",
    "key = cv2. waitKey(1)\n",
    "webcam = cv2.VideoCapture(0)\n",
    "sleep(2)\n",
    "while True:\n",
    "\n",
    "    try:\n",
    "        check, frame = webcam.read()\n",
    "        cv2.imshow(\"Capturing\", frame)\n",
    "        key = cv2.waitKey(1)\n",
    "        if key == ord('s'): \n",
    "            cv2.imwrite(filename='saved_img.jpg', img=frame)\n",
    "            webcam.release()\n",
    "            print(\"Processing image...\")\n",
    "            img_ = cv2.imread('saved_img.jpg', cv2.IMREAD_ANYCOLOR)\n",
    "            print(\"Converting RGB image to grayscale...\")\n",
    "            gray = cv2.cvtColor(img_, cv2.COLOR_BGR2GRAY)\n",
    "            print(\"Converted RGB image to grayscale...\")\n",
    "            print(\"Resizing image to 28x28 scale...\")\n",
    "            img_ = cv2.resize(gray,(28,28))\n",
    "            print(\"Resized...\")\n",
    "            img_resized = cv2.imwrite(filename='saved_img-final.jpg', img=img_)\n",
    "            print(\"Image saved!\")\n",
    "            \n",
    "            break\n",
    "        \n",
    "        elif key == ord('q'):\n",
    "            webcam.release()\n",
    "            cv2.destroyAllWindows()\n",
    "            break\n",
    "    \n",
    "    except(KeyboardInterrupt):\n",
    "        print(\"Turning off camera.\")\n",
    "        webcam.release()\n",
    "        print(\"Camera off.\")\n",
    "        print(\"Program ended.\")\n",
    "        cv2.destroyAllWindows()\n",
    "        break"
   ]
  },
  {
   "cell_type": "code",
   "execution_count": null,
   "id": "f6c1e69e-249a-4b12-b4a5-da842e27b5fc",
   "metadata": {},
   "outputs": [],
   "source": [
    "img = cv2.imread('saved_img.jpg')"
   ]
  },
  {
   "cell_type": "code",
   "execution_count": null,
   "id": "558a9861-681b-42ec-8f71-d7866e443bec",
   "metadata": {},
   "outputs": [],
   "source": [
    "predictions = DeepFace.analyze(img)"
   ]
  },
  {
   "cell_type": "code",
   "execution_count": null,
   "id": "53bbc836-7ae3-4883-9b21-273824c36be2",
   "metadata": {
    "scrolled": true
   },
   "outputs": [],
   "source": [
    "emotion = predictions[0]['dominant_emotion'] "
   ]
  },
  {
   "cell_type": "code",
   "execution_count": null,
   "id": "dffde7c0",
   "metadata": {},
   "outputs": [],
   "source": [
    "print(emotion)"
   ]
  },
  {
   "cell_type": "code",
   "execution_count": null,
   "id": "f8695cb0",
   "metadata": {},
   "outputs": [],
   "source": [
    "username = 'aadish'\n",
    "clientID = '63b8d384874843a7a8fbdd09ca6aea5f'\n",
    "clientSecret = '672a3ea80d364ac69cf3114252503ed1'\n",
    "redirect_uri = 'http://google.com/callback/'\n",
    "oauth_object = spotipy.SpotifyOAuth(clientID, clientSecret, redirect_uri)\n",
    "token_dict = oauth_object.get_access_token()\n",
    "token = token_dict['access_token']\n",
    "spotifyObject = spotipy.Spotify(auth=token)\n",
    "user_name = spotifyObject.current_user()\n",
    "\n",
    "# To print the JSON response from\n",
    "# browser in a readable format.\n",
    "# optional can be removed\n",
    "print(json.dumps(user_name, sort_keys=True, indent=4))"
   ]
  },
  {
   "cell_type": "code",
   "execution_count": null,
   "id": "6a24d0a8",
   "metadata": {},
   "outputs": [],
   "source": [
    "if emotion == 'happy':\n",
    "    songs = 'https://open.spotify.com/playlist/4nd7oGDNgfM0rv28CQw9WQ?si=deeb2095439a415b'\n",
    "    webbrowser.open(songs)\n",
    "elif emotion == 'sad':\n",
    "    songs = 'https://open.spotify.com/playlist/0VPrITrZqpMpIRGAs33Tmz?si=a914368c42b74810'\n",
    "    webbrowser.open(songs)\n",
    "elif emotion == 'angry':\n",
    "    songs = 'https://open.spotify.com/playlist/7pS8tMgJgzQ8XSGpOajOqb?si=1898b4d8d6cb4da3'\n",
    "    webbrowser.open(songs)\n",
    "elif emotion == 'neutral':\n",
    "    songs = 'https://open.spotify.com/playlist/7EClwmhqu7mg4JvUI9z5DT?si=3816b85fcb3e4a0a'\n",
    "    webbrowser.open(songs)"
   ]
  },
  {
   "cell_type": "code",
   "execution_count": null,
   "id": "24bb8385",
   "metadata": {},
   "outputs": [],
   "source": [
    "# webbrowser.open(songs)\n",
    "#     for key in ['tab','tab','enter']:\n",
    "#         time.sleep(80)\n",
    "#         pyautogui.press(key)"
   ]
  }
 ],
 "metadata": {
  "kernelspec": {
   "display_name": "Python 3 (ipykernel)",
   "language": "python",
   "name": "python3"
  },
  "language_info": {
   "codemirror_mode": {
    "name": "ipython",
    "version": 3
   },
   "file_extension": ".py",
   "mimetype": "text/x-python",
   "name": "python",
   "nbconvert_exporter": "python",
   "pygments_lexer": "ipython3",
   "version": "3.10.9"
  }
 },
 "nbformat": 4,
 "nbformat_minor": 5
}

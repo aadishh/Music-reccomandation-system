{
 "cells": [
  {
   "cell_type": "code",
   "execution_count": 3,
   "metadata": {},
   "outputs": [],
   "source": [
    "import cv2 as cv"
   ]
  },
  {
   "cell_type": "code",
   "execution_count": 4,
   "metadata": {},
   "outputs": [],
   "source": [
    "capture = cv.VideoCapture(0) # open Camera\n",
    "\n",
    "#accessing pretrained model\n",
    "faceCascade = cv.CascadeClassifier('./haarcascade_frontalface_default.xml')\n",
    "\n",
    "while True:\n",
    "    boolean, frame = capture.read()\n",
    "    if boolean == True:\n",
    "        gray = cv.cvtColor(frame, cv.COLOR_BGR2GRAY)\n",
    "        coordinate_list = faceCascade.detectMultiScale(gray, scaleFactor=1.1, minNeighbors=3) \n",
    "        \n",
    "        # drawing rectangle in frame\n",
    "        for (x,y,w,h) in coordinate_list:\n",
    "            cv.rectangle(frame, (x,y), (x+w, y+h), (0,255,0), 2)\n",
    "            \n",
    "        # Display detected face\n",
    "        cv.imshow(\"Live Face Detection\", frame)\n",
    "        \n",
    "        # condition to break out of while loop\n",
    "        if cv.waitKey(20) == ord('x'):\n",
    "            break\n",
    "        \n",
    "capture.release()\n",
    "cv.destroyAllWindows()"
   ]
  }
 ],
 "metadata": {
  "kernelspec": {
   "display_name": "Python 3",
   "language": "python",
   "name": "python3"
  },
  "language_info": {
   "codemirror_mode": {
    "name": "ipython",
    "version": 3
   },
   "file_extension": ".py",
   "mimetype": "text/x-python",
   "name": "python",
   "nbconvert_exporter": "python",
   "pygments_lexer": "ipython3",
   "version": "3.10.11"
  },
  "orig_nbformat": 4
 },
 "nbformat": 4,
 "nbformat_minor": 2
}

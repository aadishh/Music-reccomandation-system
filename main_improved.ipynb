{
 "cells": [
  {
   "cell_type": "markdown",
   "id": "notebook-header",
   "metadata": {},
   "source": [
    "# Emotion-Based Music Recommendation System\n",
    "This notebook demonstrates an improved version of the emotion detection and music recommendation system.\n",
    "\n",
    "## Features:\n",
    "- Face detection and emotion analysis\n",
    "- Spotify playlist recommendations based on emotions\n",
    "- Better error handling and logging\n",
    "- Organized code structure\n",
    "\n",
    "## Instructions:\n",
    "1. Run all cells in order\n",
    "2. When the camera window opens, position your face in the frame\n",
    "3. Press 's' to capture and analyze your emotion\n",
    "4. Press 'q' to quit without capturing"
   ]
  },
  {
   "cell_type": "code",
   "execution_count": null,
   "id": "imports",
   "metadata": {},
   "outputs": [],
   "source": [
    "# Import the improved emotion music system\n",
    "from emotion_music_system import EmotionMusicSystem\n",
    "import logging\n",
    "\n",
    "# Set up logging for notebook\n",
    "logging.basicConfig(level=logging.INFO, format='%(asctime)s - %(levelname)s - %(message)s')"
   ]
  },
  {
   "cell_type": "code",
   "execution_count": null,
   "id": "initialize-system",
   "metadata": {},
   "outputs": [],
   "source": [
    "# Initialize the emotion music system\n",
    "print(\"Initializing Emotion-Based Music Recommendation System...\")\n",
    "system = EmotionMusicSystem()\n",
    "print(\"System initialized successfully!\")"
   ]
  },
  {
   "cell_type": "code",
   "execution_count": null,
   "id": "run-system",
   "metadata": {},
   "outputs": [],
   "source": [
    "# Run the complete system\n",
    "print(\"Starting emotion detection and music recommendation...\")\n",
    "print(\"Instructions:\")\n",
    "print(\"- Position your face in the camera frame\")\n",
    "print(\"- Press 's' to capture and analyze your emotion\")\n",
    "print(\"- Press 'q' to quit\")\n",
    "print(\"\\nStarting camera...\")\n",
    "\n",
    "system.run()"
   ]
  },
  {
   "cell_type": "markdown",
   "id": "alternative-usage",
   "metadata": {},
   "source": [
    "## Alternative: Step-by-Step Execution\n",
    "You can also run each step individually for more control:"
   ]
  },
  {
   "cell_type": "code",
   "execution_count": null,
   "id": "step-1-capture",
   "metadata": {},
   "outputs": [],
   "source": [
    "# Step 1: Capture image\n",
    "print(\"Step 1: Capturing image...\")\n",
    "capture_success = system.capture_image()\n",
    "print(f\"Capture successful: {capture_success}\")"
   ]
  },
  {
   "cell_type": "code",
   "execution_count": null,
   "id": "step-2-emotion",
   "metadata": {},
   "outputs": [],
   "source": [
    "# Step 2: Detect emotion (only run if capture was successful)\n",
    "if 'capture_success' in locals() and capture_success:\n",
    "    print(\"Step 2: Detecting emotion...\")\n",
    "    detected_emotion = system.detect_emotion()\n",
    "    print(f\"Detected emotion: {detected_emotion}\")\n",
    "else:\n",
    "    print(\"Please run the capture step first\")"
   ]
  },
  {
   "cell_type": "code",
   "execution_count": null,
   "id": "step-3-music",
   "metadata": {},
   "outputs": [],
   "source": [
    "# Step 3: Play music based on emotion\n",
    "if 'detected_emotion' in locals():\n",
    "    print(f\"Step 3: Opening playlist for {detected_emotion} emotion...\")\n",
    "    music_success = system.play_music_for_emotion(detected_emotion)\n",
    "    print(f\"Music recommendation successful: {music_success}\")\n",
    "else:\n",
    "    print(\"Please run the emotion detection step first\")"
   ]
  },
  {
   "cell_type": "markdown",
   "id": "troubleshooting",
   "metadata": {},
   "source": [
    "## Troubleshooting\n",
    "\n",
    "### Common Issues:\n",
    "1. **Camera not working**: Make sure no other application is using the camera\n",
    "2. **No face detected**: Ensure good lighting and position your face clearly in the frame\n",
    "3. **Spotify authentication**: Check your internet connection and Spotify credentials\n",
    "4. **Missing files**: Ensure `haarcascade_frontalface_default.xml` is in the current directory\n",
    "\n",
    "### Dependencies:\n",
    "Make sure all required packages are installed:\n",
    "```bash\n",
    "pip install -r requirements.txt\n",
    "```"
   ]
  }
 ],
 "metadata": {
  "kernelspec": {
   "display_name": "Python 3 (ipykernel)",
   "language": "python",
   "name": "python3"
  },
  "language_info": {
   "codemirror_mode": {
    "name": "ipython",
    "version": 3
   },
   "file_extension": ".py",
   "mimetype": "text/x-python",
   "name": "python",
   "nbconvert_exporter": "python3",
   "version": "3.10.9"
  }
 },
 "nbformat": 4,
 "nbformat_minor": 5
}
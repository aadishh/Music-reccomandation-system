{
 "cells": [
  {
   "cell_type": "code",
   "execution_count": 1,
   "id": "eb36862d-ea12-428b-9ade-abbcec007363",
   "metadata": {},
   "outputs": [
    {
     "ename": "ModuleNotFoundError",
     "evalue": "No module named 'playsound'",
     "output_type": "error",
     "traceback": [
      "\u001b[1;31m---------------------------------------------------------------------------\u001b[0m",
      "\u001b[1;31mModuleNotFoundError\u001b[0m                       Traceback (most recent call last)",
      "Cell \u001b[1;32mIn[1], line 6\u001b[0m\n\u001b[0;32m      4\u001b[0m \u001b[39mimport\u001b[39;00m \u001b[39mmatplotlib\u001b[39;00m\u001b[39m.\u001b[39;00m\u001b[39mpyplot\u001b[39;00m \u001b[39mas\u001b[39;00m \u001b[39mplt\u001b[39;00m\n\u001b[0;32m      5\u001b[0m \u001b[39mimport\u001b[39;00m \u001b[39mos\u001b[39;00m \n\u001b[1;32m----> 6\u001b[0m \u001b[39mfrom\u001b[39;00m \u001b[39mplaysound\u001b[39;00m \u001b[39mimport\u001b[39;00m playsound\n",
      "\u001b[1;31mModuleNotFoundError\u001b[0m: No module named 'playsound'"
     ]
    }
   ],
   "source": [
    "from deepface import DeepFace\n",
    "from playsound import playsound\n",
    "\n",
    "import cv2 \n",
    "from cv2 import * \n",
    "import matplotlib.pyplot as plt\n",
    "import os \n"
   ]
  },
  {
   "cell_type": "code",
   "execution_count": null,
   "id": "505c0267-a942-42f6-96de-0f4648c440c9",
   "metadata": {},
   "outputs": [],
   "source": [
    "from time import sleep\n",
    "key = cv2. waitKey(1)\n",
    "webcam = cv2.VideoCapture(0)\n",
    "sleep(2)\n",
    "while True:\n",
    "\n",
    "    try:\n",
    "        check, frame = webcam.read()\n",
    "        print(check) #prints true as long as the webcam is running\n",
    "        print(frame) #prints matrix values of each framecd \n",
    "        cv2.imshow(\"Capturing\", frame)\n",
    "        key = cv2.waitKey(1)\n",
    "        if key == ord('s'): \n",
    "            cv2.imwrite(filename='saved_img.jpg', img=frame)\n",
    "            webcam.release()\n",
    "            print(\"Processing image...\")\n",
    "            img_ = cv2.imread('saved_img.jpg', cv2.IMREAD_ANYCOLOR)\n",
    "            print(\"Converting RGB image to grayscale...\")\n",
    "            gray = cv2.cvtColor(img_, cv2.COLOR_BGR2GRAY)\n",
    "            print(\"Converted RGB image to grayscale...\")\n",
    "            print(\"Resizing image to 28x28 scale...\")\n",
    "            img_ = cv2.resize(gray,(28,28))\n",
    "            print(\"Resized...\")\n",
    "            img_resized = cv2.imwrite(filename='saved_img-final.jpg', img=img_)\n",
    "            print(\"Image saved!\")\n",
    "            \n",
    "            break\n",
    "        \n",
    "        elif key == ord('q'):\n",
    "            webcam.release()\n",
    "            cv2.destroyAllWindows()\n",
    "            break\n",
    "    \n",
    "    except(KeyboardInterrupt):\n",
    "        print(\"Turning off camera.\")\n",
    "        webcam.release()\n",
    "        print(\"Camera off.\")\n",
    "        print(\"Program ended.\")\n",
    "        cv2.destroyAllWindows()\n",
    "        break"
   ]
  },
  {
   "cell_type": "code",
   "execution_count": null,
   "id": "f6c1e69e-249a-4b12-b4a5-da842e27b5fc",
   "metadata": {},
   "outputs": [],
   "source": [
    "img = cv2.imread('saved_img.jpg')"
   ]
  },
  {
   "cell_type": "code",
   "execution_count": null,
   "id": "558a9861-681b-42ec-8f71-d7866e443bec",
   "metadata": {},
   "outputs": [],
   "source": [
    "predictions = DeepFace.analyze(img)\n"
   ]
  },
  {
   "cell_type": "code",
   "execution_count": null,
   "id": "53bbc836-7ae3-4883-9b21-273824c36be2",
   "metadata": {
    "scrolled": true
   },
   "outputs": [],
   "source": [
    "emotion = predictions[0]['dominant_emotion'] "
   ]
  },
  {
   "cell_type": "code",
   "execution_count": null,
   "id": "dffde7c0",
   "metadata": {},
   "outputs": [],
   "source": [
    "print(emotion)"
   ]
  },
  {
   "cell_type": "code",
   "execution_count": null,
   "id": "8bb35718",
   "metadata": {},
   "outputs": [
    {
     "ename": "NameError",
     "evalue": "name 'emotion' is not defined",
     "output_type": "error",
     "traceback": [
      "\u001b[1;31m---------------------------------------------------------------------------\u001b[0m",
      "\u001b[1;31mNameError\u001b[0m                                 Traceback (most recent call last)",
      "Cell \u001b[1;32mIn[7], line 1\u001b[0m\n\u001b[1;32m----> 1\u001b[0m \u001b[39mif\u001b[39;00m emotion \u001b[39m==\u001b[39m \u001b[39m'\u001b[39m\u001b[39mhappy\u001b[39m\u001b[39m'\u001b[39m:\n\u001b[0;32m      2\u001b[0m     playsound(\u001b[39m'\u001b[39m\u001b[39m./music/happy/Alex Rus Dikaya Lvica (englishsongs.wapkiz.com).mp3\u001b[39m\u001b[39m'\u001b[39m)\n\u001b[0;32m      3\u001b[0m     \u001b[39mprint\u001b[39m(\u001b[39m'\u001b[39m\u001b[39mplaying happy songs\u001b[39m\u001b[39m'\u001b[39m)\n",
      "\u001b[1;31mNameError\u001b[0m: name 'emotion' is not defined"
     ]
    }
   ],
   "source": [
    "\n",
    "if emotion == 'happy':\n",
    "    playsound('./music/happy/Alex Rus Dikaya Lvica (englishsongs.wapkiz.com).mp3')\n",
    "    print('playing happy songs')\n",
    "elif emotion == 'sad':\n",
    "    playsound('./music/sad/Shape of You(PagalWorld.com.se).mp3')\n",
    "    print('playing happy songs')\n",
    "elif emotion == 'nuetral':\n",
    "    playsound('./music/nuetral/Love Your Voice (Insta Love Music) Mp3 Song Download(atozlyrics.in).mp3')\n",
    "    print('playing happy songs')"
   ]
  }
 ],
 "metadata": {
  "kernelspec": {
   "display_name": "Python 3 (ipykernel)",
   "language": "python",
   "name": "python3"
  },
  "language_info": {
   "codemirror_mode": {
    "name": "ipython",
    "version": 3
   },
   "file_extension": ".py",
   "mimetype": "text/x-python",
   "name": "python",
   "nbconvert_exporter": "python",
   "pygments_lexer": "ipython3",
   "version": "3.10.9"
  }
 },
 "nbformat": 4,
 "nbformat_minor": 5
}

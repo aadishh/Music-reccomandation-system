{
 "cells": [
  {
   "cell_type": "code",
   "execution_count": 4,
   "id": "eb36862d-ea12-428b-9ade-abbcec007363",
   "metadata": {},
   "outputs": [],
   "source": [
    "from deepface import DeepFace\n",
    "import cv2 \n",
    "from cv2 import * \n",
    "import matplotlib.pyplot as plt \n",
    "import json\n",
    "import webbrowser\n",
    "import spotipy"
   ]
  },
  {
   "cell_type": "code",
   "execution_count": null,
   "id": "505c0267-a942-42f6-96de-0f4648c440c9",
   "metadata": {},
   "outputs": [],
   "source": [
    "from time import sleep\n",
    "key = cv2. waitKey(1)\n",
    "webcam = cv2.VideoCapture(0)\n",
    "sleep(2)\n",
    "while True:\n",
    "\n",
    "    try:\n",
    "        check, frame = webcam.read()\n",
    "        # print(check) #prints true as long as the webcam is running\n",
    "        # print(frame) #prints matrix values of each framecd \n",
    "        cv2.imshow(\"Capturing\", frame)\n",
    "        key = cv2.waitKey(1)\n",
    "        if key == ord('s'): \n",
    "            cv2.imwrite(filename='saved_img.jpg', img=frame)\n",
    "            webcam.release()\n",
    "            print(\"Processing image...\")\n",
    "            img_ = cv2.imread('saved_img.jpg', cv2.IMREAD_ANYCOLOR)\n",
    "            print(\"Converting RGB image to grayscale...\")\n",
    "            gray = cv2.cvtColor(img_, cv2.COLOR_BGR2GRAY)\n",
    "            print(\"Converted RGB image to grayscale...\")\n",
    "            print(\"Resizing image to 28x28 scale...\")\n",
    "            img_ = cv2.resize(gray,(28,28))\n",
    "            print(\"Resized...\")\n",
    "            img_resized = cv2.imwrite(filename='saved_img-final.jpg', img=img_)\n",
    "            print(\"Image saved!\")\n",
    "            \n",
    "            break\n",
    "        \n",
    "        elif key == ord('q'):\n",
    "            webcam.release()\n",
    "            cv2.destroyAllWindows()\n",
    "            break\n",
    "    \n",
    "    except(KeyboardInterrupt):\n",
    "        print(\"Turning off camera.\")\n",
    "        webcam.release()\n",
    "        print(\"Camera off.\")\n",
    "        print(\"Program ended.\")\n",
    "        cv2.destroyAllWindows()\n",
    "        break"
   ]
  },
  {
   "cell_type": "code",
   "execution_count": null,
   "id": "f6c1e69e-249a-4b12-b4a5-da842e27b5fc",
   "metadata": {},
   "outputs": [],
   "source": [
    "img = cv2.imread('saved_img.jpg')"
   ]
  },
  {
   "cell_type": "code",
   "execution_count": null,
   "id": "558a9861-681b-42ec-8f71-d7866e443bec",
   "metadata": {},
   "outputs": [],
   "source": [
    "predictions = DeepFace.analyze(img)\n"
   ]
  },
  {
   "cell_type": "code",
   "execution_count": null,
   "id": "53bbc836-7ae3-4883-9b21-273824c36be2",
   "metadata": {
    "scrolled": true
   },
   "outputs": [],
   "source": [
    "emotion = predictions[0]['dominant_emotion'] "
   ]
  },
  {
   "cell_type": "code",
   "execution_count": null,
   "id": "dffde7c0",
   "metadata": {},
   "outputs": [],
   "source": [
    "print(emotion)"
   ]
  },
  {
   "cell_type": "code",
   "execution_count": null,
   "id": "8bb35718",
   "metadata": {},
   "outputs": [],
   "source": [
    "\n",
    "# if emotion == 'happy':\n",
    "#     os.startfile('.\\music\\happy\\Astronaut-in-The-Ocean-song.mp3')\n",
    "#     print('playing happy songs')\n",
    "# elif emotion == 'sad':\n",
    "#     os.startfile('.\\music\\sad\\Shape of You(PagalWorld.com.se).mp3')\n",
    "#     print('playing happy songs')\n",
    "# elif emotion == 'nuetral':\n",
    "#     os.startfile('.\\music\\nuetral\\Love Your Voice (Insta Love Music) Mp3 Song Download(atozlyrics.in).mp3')\n",
    "#     print('playing happy songs')"
   ]
  }
 ],
 "metadata": {
  "kernelspec": {
   "display_name": "Python 3 (ipykernel)",
   "language": "python",
   "name": "python3"
  },
  "language_info": {
   "codemirror_mode": {
    "name": "ipython",
    "version": 3
   },
   "file_extension": ".py",
   "mimetype": "text/x-python",
   "name": "python",
   "nbconvert_exporter": "python",
   "pygments_lexer": "ipython3",
   "version": "3.10.9"
  }
 },
 "nbformat": 4,
 "nbformat_minor": 5
}
